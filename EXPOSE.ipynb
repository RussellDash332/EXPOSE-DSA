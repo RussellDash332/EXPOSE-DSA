{
 "cells": [
  {
   "cell_type": "markdown",
   "metadata": {},
   "source": [
    "# EXPOSE: Data Analytics Tutorial\n",
    "\n",
    "### Topics:\n",
    "* Exploratory data analysis (EDA)\n",
    "* Data manipulation with Pandas\n",
    "* Data visualisation with Matplotlib\n",
    "* Model training with Scikit-learn\n",
    "\n",
    "### Tutorial TAs:\n",
    "* Nicholas Russell Saerang (NUS, Y2 DSA)\n",
    "* Wilson Widyadhana (NUS, Y1 DSA)"
   ]
  },
  {
   "cell_type": "markdown",
   "metadata": {},
   "source": [
    "---\n",
    "### Step 0: Importing necessary packages\n",
    "In this step, we first import the packages essential to what we want to do today.\n",
    "We will be importing:\n",
    "* [Scikit-learn](https://scikit-learn.org/) (`sklearn`), which is an introductory data analytics package,\n",
    "* [Pandas](https://pandas.pydata.org/) (`pandas`, usually imported as `pd`), which is often used to manipulate data,\n",
    "* [Matplotlib](https://matplotlib.org/) (`matplotlib.pyplot`, usually imported as `plt`), used to visualise data,\n",
    "* `warnings`, which will just be used in our case to prevent unnecessary warnings appearing in our Google Colab notebook"
   ]
  },
  {
   "cell_type": "code",
   "execution_count": null,
   "metadata": {},
   "outputs": [],
   "source": [
    "# Importing necessary packages and suppress warnings\n",
    "from sklearn import datasets\n",
    "import pandas as pd\n",
    "import numpy as np\n",
    "import matplotlib.pyplot as plt\n",
    "import warnings\n",
    "\n",
    "def warn(*args, **kwargs):\n",
    "    pass\n",
    "warnings.warn = warn"
   ]
  },
  {
   "cell_type": "markdown",
   "metadata": {},
   "source": [
    "---\n",
    "### Step 1: Loading our dataset\n",
    "We shall use the iris dataset from the `sklearn` package that we just imported recently.\n",
    "\n",
    "The iris dataset is a dataset consisting of iris flowers with different:\n",
    "- sepal length (cm)\n",
    "- sepal width (cm)\n",
    "- petal length (cm)\n",
    "- petal width (cm)\n",
    "- the species of the flower - our dataset label\n",
    "  * 0 means the species is *Iris setosa*\n",
    "  * 1 means the species is *Iris versicolour*\n",
    "  * 2 means the species is *Iris virginica*\n",
    "\n",
    "However, the labels are separated from the other four informations as shown below."
   ]
  },
  {
   "cell_type": "code",
   "execution_count": null,
   "metadata": {},
   "outputs": [],
   "source": [
    "# Get dataframe and label\n",
    "iris = datasets.load_iris()\n",
    "df = pd.DataFrame(iris.data, columns=iris.feature_names)\n",
    "target = pd.DataFrame(iris.target)\n",
    "\n",
    "# Join both\n",
    "\n",
    "# TODO\n",
    "df = df.join(target)\n",
    "\n",
    "# Rename columns\n",
    "mapper = {\n",
    "    'sepal length (cm)': 'sepal_length',\n",
    "    'sepal width (cm)': 'sepal_width',\n",
    "    'petal length (cm)': 'petal_length',\n",
    "    'petal width (cm)': 'petal_width',\n",
    "    0: 'label'\n",
    "}\n",
    "df = df.rename(mapper, axis='columns')"
   ]
  },
  {
   "cell_type": "markdown",
   "metadata": {},
   "source": [
    "What the previous lines of code do is assigning our loaded dataset to a variable `iris`, and puts the measurements information and the label into two variables, `df` and `target`. The code then joins both information into `df` as one unity. Finally, some columns are renamed so the data is tidy for you to use now."
   ]
  },
  {
   "cell_type": "markdown",
   "metadata": {},
   "source": [
    "Now let us extract the first five rows of the dataframe, `df`, using the `.head()` method."
   ]
  },
  {
   "cell_type": "code",
   "execution_count": null,
   "metadata": {},
   "outputs": [],
   "source": [
    "# TODO\n",
    "df.head()"
   ]
  },
  {
   "cell_type": "markdown",
   "metadata": {},
   "source": [
    "The purpose of this is to have a glimpse on the dataset without actually showing all the rows (it can be a lot of them!). If you want to show more/less rows, you can put a number inside the brackets to specify the number of rows you want (so you'll type something like `df.head(<number>)`)."
   ]
  },
  {
   "cell_type": "code",
   "execution_count": null,
   "metadata": {},
   "outputs": [],
   "source": [
    "# Showing the first 8 rows\n",
    "\n",
    "# TODO\n",
    "df.head(8)"
   ]
  },
  {
   "cell_type": "markdown",
   "metadata": {},
   "source": [
    "Next, to find the number of rows and columns a dataframe has, use the `shape` attribute as shown below."
   ]
  },
  {
   "cell_type": "code",
   "execution_count": null,
   "metadata": {},
   "outputs": [],
   "source": [
    "# TODO\n",
    "df.shape"
   ]
  },
  {
   "cell_type": "markdown",
   "metadata": {},
   "source": [
    "This means the dataframe has 150 rows and 4 columns."
   ]
  },
  {
   "cell_type": "markdown",
   "metadata": {},
   "source": [
    "---\n",
    "### Step 2: Querying the dataframe\n",
    "Given our current dataframe `df`, we can try to perform queries and different data manipulations on it."
   ]
  },
  {
   "cell_type": "markdown",
   "metadata": {},
   "source": [
    "Extract the column corresponding to the sepal length. This will be used in a later step."
   ]
  },
  {
   "cell_type": "code",
   "execution_count": null,
   "metadata": {},
   "outputs": [],
   "source": [
    "# Indexing the column name directly\n",
    "df['sepal_length']"
   ]
  },
  {
   "cell_type": "code",
   "execution_count": null,
   "metadata": {},
   "outputs": [],
   "source": [
    "# Using iloc, result is the same as above\n",
    "df.iloc[:, 0]"
   ]
  },
  {
   "cell_type": "markdown",
   "metadata": {},
   "source": [
    "How many flowers in the dataset have a sepal length of less than 5.6cm?"
   ]
  },
  {
   "cell_type": "code",
   "execution_count": null,
   "metadata": {},
   "outputs": [],
   "source": [
    "df[df['sepal_length'] < 5.6].shape[0]"
   ]
  },
  {
   "cell_type": "markdown",
   "metadata": {},
   "source": [
    "How many flowers have a sepal length of between 5-6cm **AND** petal length between 1.4-1.6cm?"
   ]
  },
  {
   "cell_type": "code",
   "execution_count": null,
   "metadata": {},
   "outputs": [],
   "source": [
    "# Important to use brackets to separate ambiguous boolean statements, if OR use | instead of &\n",
    "df[\n",
    "    (df['sepal_length'] >= 5) &\n",
    "    (df['sepal_length'] <= 6) &\n",
    "    (df['petal_length'] >= 1.4) &\n",
    "    (df['petal_length'] <= 1.6)\n",
    "].shape[0]"
   ]
  },
  {
   "cell_type": "markdown",
   "metadata": {},
   "source": [
    "How to obtain the first column with values now in **millimetres**? (the current value is in centimetres)"
   ]
  },
  {
   "cell_type": "code",
   "execution_count": null,
   "metadata": {},
   "outputs": [],
   "source": [
    "def f(x):\n",
    "    return 10*x\n",
    "\n",
    "df.iloc[:, 0].apply(f, 1)"
   ]
  },
  {
   "cell_type": "markdown",
   "metadata": {},
   "source": [
    "In a similar way, we can also **add another column** for the flower's species based on the label."
   ]
  },
  {
   "cell_type": "code",
   "execution_count": null,
   "metadata": {},
   "outputs": [],
   "source": [
    "def to_species(label):\n",
    "    if label == 0:\n",
    "        return 'Iris setosa'\n",
    "    elif label == 1:\n",
    "        return 'Iris versicolour'\n",
    "    else:\n",
    "        return 'Iris virginica'\n",
    "\n",
    "df['species'] = df['label'].apply(to_species)\n",
    "df.head()"
   ]
  },
  {
   "cell_type": "markdown",
   "metadata": {},
   "source": [
    "#### Optional: Saving to a file\n",
    "Of course, there must be a way to convert the dataframe into a file so you can deal with them at another time. Here's how you can do it. CSV files and Excel files conversion will be given as an example below."
   ]
  },
  {
   "cell_type": "code",
   "execution_count": null,
   "metadata": {},
   "outputs": [],
   "source": [
    "df.to_csv('iris.csv', index=False)"
   ]
  },
  {
   "cell_type": "code",
   "execution_count": null,
   "metadata": {},
   "outputs": [],
   "source": [
    "df.to_excel('iris.xlsx', index=False)"
   ]
  },
  {
   "cell_type": "markdown",
   "metadata": {},
   "source": [
    "---\n",
    "### Step 3: Data visualization\n",
    "Data visualisation enables us to see patterns that are otherwise difficult to observe from just raw data, which is critical for drawing insights and conclusions from the data.\n",
    "\n",
    "There are several types of visualisations that we can do, including:\n",
    "* Scatter plots\n",
    "* Bar charts\n",
    "* Box plots\n",
    "* Histograms\n",
    "* Line plots\n",
    "\n",
    "We will try to plot each one of them using `matplotlib.pyplot` that we have aliased to `plt`."
   ]
  },
  {
   "cell_type": "markdown",
   "metadata": {},
   "source": [
    "**(SANITY CHECK)** Before we start, make sure your dataframe `df` is the one we have modified on the previous parts."
   ]
  },
  {
   "cell_type": "code",
   "execution_count": null,
   "metadata": {},
   "outputs": [],
   "source": [
    "df.head()"
   ]
  },
  {
   "cell_type": "markdown",
   "metadata": {},
   "source": [
    "#### Scatter plot\n",
    "Let's plot the sepal length (y) against the sepal width (x) across all flowers."
   ]
  },
  {
   "cell_type": "code",
   "execution_count": null,
   "metadata": {},
   "outputs": [],
   "source": [
    "fig = plt.scatter(y=df.sepal_length, x=df.sepal_width)"
   ]
  },
  {
   "cell_type": "code",
   "execution_count": null,
   "metadata": {},
   "outputs": [],
   "source": [
    "# Modify to have colours and labels\n",
    "for label in range(3):\n",
    "    plt.scatter(y=df.sepal_length[df.label==label], x=df.sepal_width[df.label==label], label=to_species(label))\n",
    "plt.legend()"
   ]
  },
  {
   "cell_type": "markdown",
   "metadata": {},
   "source": [
    "#### Bar charts\n",
    "For each species, plot a bar chart of the number of flowers with sepals of width more than 3 cm."
   ]
  },
  {
   "cell_type": "code",
   "execution_count": null,
   "metadata": {},
   "outputs": [],
   "source": [
    "def count_wide_sepals(label):\n",
    "    return df[(df.sepal_width > 3) & (df.label == label)].shape[0]\n",
    "\n",
    "fig = plt.bar(x=df.label.apply(to_species), height=df.label.apply(count_wide_sepals))"
   ]
  },
  {
   "cell_type": "markdown",
   "metadata": {},
   "source": [
    "Looks cool, seems like most of the flowers with sepals wider than 3 cm are Iris setosas!"
   ]
  },
  {
   "cell_type": "markdown",
   "metadata": {},
   "source": [
    "#### Box plots\n",
    "Let's find the distribution of the sepal widths of the flowers."
   ]
  },
  {
   "cell_type": "code",
   "execution_count": null,
   "metadata": {},
   "outputs": [],
   "source": [
    "fig = plt.boxplot(x=df.sepal_width)"
   ]
  },
  {
   "cell_type": "code",
   "execution_count": null,
   "metadata": {},
   "outputs": [],
   "source": [
    "# Yellow line = median, what about mean?\n",
    "fig = plt.boxplot(x=df.sepal_width, showmeans=True)"
   ]
  },
  {
   "cell_type": "markdown",
   "metadata": {},
   "source": [
    "From the boxplot, we can see that the median of the sepal widths is very close to 3.0 cm and we have some outlier lengths as well :)"
   ]
  },
  {
   "cell_type": "markdown",
   "metadata": {},
   "source": [
    "#### Histograms\n",
    "Let's plot the histogram of the petal lengths and see which length interval has the most flowers."
   ]
  },
  {
   "cell_type": "code",
   "execution_count": null,
   "metadata": {},
   "outputs": [],
   "source": [
    "fig = plt.hist(x=df.petal_length)"
   ]
  },
  {
   "cell_type": "code",
   "execution_count": null,
   "metadata": {},
   "outputs": [],
   "source": [
    "# Fix the number of bins to 5\n",
    "fig = plt.hist(x=df.petal_length, bins=5)"
   ]
  },
  {
   "cell_type": "markdown",
   "metadata": {},
   "source": [
    "It looks like we have two separate groups of petal lengths, one ranging from 1-2 cm and one from 3-7 cm. It may be related to the species of the flowers, who knows? (Explore more to find it out by yourself!)"
   ]
  },
  {
   "cell_type": "markdown",
   "metadata": {},
   "source": [
    "#### Line plots\n",
    "Lastly, we have the line plot.\n",
    "One thing we can do with the iris dataset is to plot the line plot for some columns of the dataset."
   ]
  },
  {
   "cell_type": "code",
   "execution_count": null,
   "metadata": {},
   "outputs": [],
   "source": [
    "row_numbers = list(range(150))\n",
    "for col_idx in [2, 3]:\n",
    "    plt.plot(row_numbers, df.iloc[:, col_idx], label=df.columns[col_idx])\n",
    "plt.legend()"
   ]
  },
  {
   "cell_type": "markdown",
   "metadata": {},
   "source": [
    "Interestingly, if you take a look at the dataset again, the first 50 rows are for label 0, next 50 rows for label 1, and next 50 rows for label 2. We can clearly see a distinction between each label by looking at the line plot!"
   ]
  },
  {
   "cell_type": "markdown",
   "metadata": {},
   "source": [
    "#### BONUS: Case study\n",
    "Suppose you want to find a way to differentiate iris species/labels with only their petal and sepal lengths and widths, here are some cool alternatives that might open up your mind."
   ]
  },
  {
   "cell_type": "markdown",
   "metadata": {},
   "source": [
    "Alternative 1: Use petal length and width. Label 0 is separated very well, but we can't tell certainly the difference between labels 1 and 2."
   ]
  },
  {
   "cell_type": "code",
   "execution_count": null,
   "metadata": {},
   "outputs": [],
   "source": [
    "for label in range(3):\n",
    "    plt.scatter(y=df.petal_length[df.label==label], x=df.petal_width[df.label==label], label=to_species(label))\n",
    "plt.legend()"
   ]
  },
  {
   "cell_type": "markdown",
   "metadata": {},
   "source": [
    "Alternative 2: Use sepal length and petal length. Again, only those with label 0 can be obviously identified."
   ]
  },
  {
   "cell_type": "code",
   "execution_count": null,
   "metadata": {},
   "outputs": [],
   "source": [
    "for label in range(3):\n",
    "    plt.scatter(y=df.sepal_length[df.label==label], x=df.petal_length[df.label==label], label=to_species(label))\n",
    "plt.legend()"
   ]
  },
  {
   "cell_type": "markdown",
   "metadata": {},
   "source": [
    "Alternative 3: Use machine learning?\n",
    "\n",
    "This is a much more complex topic, so you don't have to worry about the complex code yet.\n",
    "\n",
    "But let's see if this complex code can give a good solution too :)"
   ]
  },
  {
   "cell_type": "code",
   "execution_count": null,
   "metadata": {},
   "outputs": [],
   "source": [
    "from sklearn.discriminant_analysis import LinearDiscriminantAnalysis as LDA\n",
    "lda = LDA(n_components=2)\n",
    "fit_result = lda.fit(df.iloc[:, :4], df.label).transform(df.iloc[:, :4])\n",
    "for label in range(3):\n",
    "    plt.scatter(y=fit_result[df.label==label, 1], x=fit_result[df.label==label, 0], label=to_species(label))\n",
    "plt.legend()"
   ]
  },
  {
   "cell_type": "markdown",
   "metadata": {},
   "source": [
    "---\n",
    "### Step 4: Wrapping up\n",
    "You have learned the very basics of data manipulation and data visualization. Pat on the back!\n",
    "If you are interested to see more from Matplotlib and Pandas, take a look at https://matplotlib.org/ and https://pandas.pydata.org/ directly!\n",
    "\n",
    "Matplotlib's website also includes a variety of ways to improve and customize your plot, making them look more elegant. For example, adding plot title and legends and even more customized colors. What you saw here are just the basic customizations.\n",
    "\n",
    "That should be it for today. Hope you enjoyed them and see you again soon!"
   ]
  }
 ],
 "metadata": {
  "interpreter": {
   "hash": "aee8b7b246df8f9039afb4144a1f6fd8d2ca17a180786b69acc140d282b71a49"
  },
  "kernelspec": {
   "display_name": "Python 3.10.0 64-bit",
   "language": "python",
   "name": "python3"
  },
  "language_info": {
   "codemirror_mode": {
    "name": "ipython",
    "version": 3
   },
   "file_extension": ".py",
   "mimetype": "text/x-python",
   "name": "python",
   "nbconvert_exporter": "python",
   "pygments_lexer": "ipython3",
   "version": "3.10.0"
  },
  "orig_nbformat": 4
 },
 "nbformat": 4,
 "nbformat_minor": 2
}
